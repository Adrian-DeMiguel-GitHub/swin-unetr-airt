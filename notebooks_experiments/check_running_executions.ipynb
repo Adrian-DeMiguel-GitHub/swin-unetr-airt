{
 "cells": [
  {
   "cell_type": "code",
   "execution_count": null,
   "id": "a2f48b45-57f1-4eed-9b5d-c71dfed52acf",
   "metadata": {},
   "outputs": [],
   "source": [
    "import pandas as pd\n",
    "\n",
    "# Leer el archivo CSV\n",
    "try:\n",
    "    df = pd.read_csv('executions/train-k_fold_val-test/id=1-patch_dims=[64x64x256]-overlap_training=[0_10x0_15]-overlap_inference=[0_00x0_00]/split_4/metrics.csv')\n",
    "    filtered_df = df.dropna(subset=[\"train_loss_epoch\", \"val_loss_epoch\"], how='all')\n",
    "except Exception as e:\n",
    "    print(f\"Error al leer el archivo: {e}\")\n",
    "\n",
    "from IPython.display import display\n",
    "# Display DataFrame\n",
    "display(filtered_df)"
   ]
  }
 ],
 "metadata": {
  "kernelspec": {
   "display_name": "Python 3 (kernel 2)",
   "language": "python",
   "name": "kernel_2_python3"
  },
  "language_info": {
   "codemirror_mode": {
    "name": "ipython",
    "version": 3
   },
   "file_extension": ".py",
   "mimetype": "text/x-python",
   "name": "python",
   "nbconvert_exporter": "python",
   "pygments_lexer": "ipython3",
   "version": "3.10.12"
  }
 },
 "nbformat": 4,
 "nbformat_minor": 5
}
